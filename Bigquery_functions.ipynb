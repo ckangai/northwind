{
 "cells": [
  {
   "cell_type": "code",
   "execution_count": null,
   "metadata": {},
   "outputs": [],
   "source": [
    "Prepared by Charles Kangai, ROI Training Inc., email: charles@charleskangai.co.uk\n",
    "\n",
    "Examples to be used with the tables created by bash script: import_nwind.sh. The script creates a Bigquery dataset named demos and creates tables in the dataset.\n",
    "    Upload the files customers_tab.csv, employees_tab.csv, order_details_tab.csv, products_tab.csv, regions_tab.csv and suppliers_tab.csv to Google Cloud Shell \n",
    "    then execute the import_nwind.sh script supplying the project_id as a command ine argument, e.g.:\n",
    "    ./import_nwind.sh qwiklabs-gcp-04-5bb209450a77\n",
    "    \n",
    "Disclaimer: these scripts have been prepared for use in class only for instructional purposes by Charles Kangai and students and for no other purpose."
   ]
  },
  {
   "cell_type": "code",
   "execution_count": null,
   "metadata": {},
   "outputs": [],
   "source": [
    "Other aggregate functions are: ANY_VALUE, ARRAY_AGG, ARRAY_CONCAT_AGG, AVG, BIT_AND, BIT_OR, BIT_XOR, COUNT, LOGICAL_AND, LOGICAL_OR, MAX, MIN, SUM, STRING_AGG, CORR, COVAR_POP, COVAR_SAMP\n",
    "    , STDDEV_POP, STDDEV_SAMP, VAR_POP, VAR_SAMP"
   ]
  },
  {
   "cell_type": "code",
   "execution_count": null,
   "metadata": {},
   "outputs": [],
   "source": [
    "%%bigquery\n",
    "SELECT \n",
    "COUNTIF(product_name = 'Chai') AS ChaiSales \n",
    "FROM demos.order_details "
   ]
  },
  {
   "cell_type": "markdown",
   "metadata": {},
   "source": [
    "Illustrate using ARRAY_AGG and Bigquery concatenation of strings with operator"
   ]
  },
  {
   "cell_type": "code",
   "execution_count": null,
   "metadata": {},
   "outputs": [],
   "source": [
    "%%bigquery\n",
    "SELECT product_name, \n",
    "       ARRAY_AGG(c.company_name)                         AS buyers, \n",
    "       ARRAY_AGG(DISTINCT 'Shipper ' \n",
    "                          || Cast(o.ship_via AS STRING)) AS shippers \n",
    "FROM   demos.order_details AS od \n",
    "       JOIN demos.orders AS o using(order_id) \n",
    "       JOIN demos.customers AS c using(customer_id) \n",
    "GROUP  BY od.product_name "
   ]
  },
  {
   "cell_type": "code",
   "execution_count": null,
   "metadata": {},
   "outputs": [],
   "source": [
    "STRING_AGG function - this is supported in many relational databases, e.g. SQL Server"
   ]
  },
  {
   "cell_type": "code",
   "execution_count": null,
   "metadata": {},
   "outputs": [],
   "source": [
    "%%bigquery\n",
    "SELECT customer_id, \n",
    "       STRING_AGG(CAST(order_id AS STRING)) AS orders \n",
    "FROM   demos.orders \n",
    "GROUP  BY customer_id "
   ]
  },
  {
   "cell_type": "markdown",
   "metadata": {},
   "source": [
    "Statistical correlation between two variables, based on the Spearman formula"
   ]
  },
  {
   "cell_type": "code",
   "execution_count": null,
   "metadata": {},
   "outputs": [],
   "source": [
    "%%bigquery\n",
    "SELECT CORR(quantity, unit_price) AS correlation \n",
    "FROM demos.order_details"
   ]
  },
  {
   "cell_type": "markdown",
   "metadata": {},
   "source": [
    "Counting distinct values"
   ]
  },
  {
   "cell_type": "code",
   "execution_count": null,
   "metadata": {},
   "outputs": [],
   "source": [
    "%%bigquery\n",
    "SELECT\n",
    "  COUNT(DISTINCT product_name) AS products_sold\n",
    "FROM\n",
    "  demos.order_details"
   ]
  },
  {
   "cell_type": "markdown",
   "metadata": {},
   "source": [
    "COUNT(DISTINCT) is very expensive. Consider using APPROX_COUNT_DISTINCT"
   ]
  },
  {
   "cell_type": "code",
   "execution_count": null,
   "metadata": {},
   "outputs": [],
   "source": [
    "%%bigquery\n",
    "SELECT\n",
    "  APPROX_COUNT_DISTINCT(product_name) AS approx_products_sold\n",
    "FROM\n",
    "  demos.order_details"
   ]
  },
  {
   "cell_type": "markdown",
   "metadata": {},
   "source": [
    "Quantiles are a stepping stone to finding percentiles like lower quartile, median, upper quartile, 90th percentile, etc."
   ]
  },
  {
   "cell_type": "code",
   "execution_count": null,
   "metadata": {},
   "outputs": [],
   "source": [
    "%%bigquery\n",
    "SELECT\n",
    "  APPROX_QUANTILES(x, 2) AS approx_quantiles\n",
    "FROM\n",
    "  UNNEST([1, 1, 1, 4, 5, 6, 7, 8, 9, 10]) AS x;"
   ]
  },
  {
   "cell_type": "code",
   "execution_count": null,
   "metadata": {},
   "outputs": [],
   "source": [
    "%%bigquery\n",
    "SELECT\n",
    "  APPROX_QUANTILES(x, 2)[OFFSET(1)] AS median\n",
    "FROM\n",
    "  UNNEST([1, 1, 1, 4, 5, 6, 7, 8, 9, 10]) AS x;"
   ]
  },
  {
   "cell_type": "code",
   "execution_count": null,
   "metadata": {},
   "outputs": [],
   "source": [
    "%%bigquery\n",
    "SELECT APPROX_QUANTILES(net_amount, 2) AS approx_quantiles \n",
    "FROM   (SELECT order_id, \n",
    "               Sum(unit_price * quantity * ( 1 - discount )) AS net_amount \n",
    "        FROM   demos.order_details \n",
    "        GROUP  BY order_id) "
   ]
  },
  {
   "cell_type": "markdown",
   "metadata": {},
   "source": [
    "Finding top counts"
   ]
  },
  {
   "cell_type": "code",
   "execution_count": null,
   "metadata": {},
   "outputs": [],
   "source": [
    "%%bigquery\n",
    "WITH product_sales \n",
    "     AS (SELECT product_name \n",
    "         FROM   demos.order_details) \n",
    "SELECT APPROX_TOP_COUNT(product_name, 5) AS Top_5_occurring\n",
    "FROM   product_sales"
   ]
  },
  {
   "cell_type": "markdown",
   "metadata": {},
   "source": [
    "Split a range into buckets"
   ]
  },
  {
   "cell_type": "code",
   "execution_count": null,
   "metadata": {},
   "outputs": [],
   "source": [
    "%%bigquery\n",
    "CREATE OR REPLACE TABLE demos.t \n",
    "  ( \n",
    "     val INT64 \n",
    "  ); \n",
    "\n",
    "INSERT INTO demos.t \n",
    "            (val) \n",
    "VALUES     (1), \n",
    "            (2), \n",
    "            (3), \n",
    "            (4), \n",
    "            (5), \n",
    "            (6), \n",
    "            (7), \n",
    "            (8), \n",
    "            (9); \n",
    "\n",
    "SELECT val, \n",
    "       Ntile(4) \n",
    "         OVER( \n",
    "           ORDER BY val) AS bucket_number \n",
    "FROM   demos.t "
   ]
  },
  {
   "cell_type": "markdown",
   "metadata": {},
   "source": [
    "Find highest or lowest value across columns"
   ]
  },
  {
   "cell_type": "code",
   "execution_count": null,
   "metadata": {},
   "outputs": [],
   "source": [
    "%%bigquery\n",
    "SELECT units_in_stock, \n",
    "       units_on_order, \n",
    "       reorder_level, \n",
    "       GREATEST(units_in_stock, units_on_order, reorder_level) AS highest \n",
    "FROM   demos.products "
   ]
  },
  {
   "cell_type": "markdown",
   "metadata": {},
   "source": [
    "Compare values across rows by using navigation functions: LAG, LEAD, NTH_VALUE, etc."
   ]
  },
  {
   "cell_type": "code",
   "execution_count": null,
   "metadata": {},
   "outputs": [],
   "source": [
    "%%bigquery\n",
    "SELECT o.order_date,\n",
    "       SUM(unit_price * quantity)                              AS order_amount,\n",
    "       SUM(unit_price * quantity) - LAG(SUM(unit_price * quantity))\n",
    "                                      OVER(\n",
    "                                        ORDER BY o.order_date) AS order_increase\n",
    "FROM   demos.order_details AS od\n",
    "       JOIN demos.orders AS o using(order_id)\n",
    "GROUP  BY o.order_date\n",
    "ORDER  BY o.order_date "
   ]
  },
  {
   "cell_type": "markdown",
   "metadata": {},
   "source": [
    "Find percentiles"
   ]
  },
  {
   "cell_type": "code",
   "execution_count": null,
   "metadata": {},
   "outputs": [],
   "source": [
    "%%bigquery\n",
    "SELECT\n",
    "  PERCENTILE_CONT(h, 0.5) OVER() AS median\n",
    "FROM\n",
    "  UNNEST(GENERATE_ARRAY(0, 10, 1)) AS h\n",
    "LIMIT 1"
   ]
  },
  {
   "cell_type": "code",
   "execution_count": null,
   "metadata": {},
   "outputs": [],
   "source": [
    "%%bigquery\n",
    "WITH order_amounts\n",
    "     AS (SELECT order_id,\n",
    "                SUM(unit_price * quantity) AS order_amount\n",
    "         FROM   demos.order_details\n",
    "         GROUP  BY order_id)\n",
    "SELECT PERCENTILE_CONT(order_amount, 0.5)\n",
    "         OVER() AS median_order_amount\n",
    "FROM   order_amounts \n",
    "LIMIT 1;"
   ]
  },
  {
   "cell_type": "markdown",
   "metadata": {},
   "source": [
    "Hashing functions: FARM_FINGERPRINT, MD5, SHA1, SHA256, SHA512. These last output BYTES rather than number."
   ]
  },
  {
   "cell_type": "code",
   "execution_count": null,
   "metadata": {},
   "outputs": [],
   "source": [
    "%%bigquery\n",
    "SELECT *\n",
    "FROM   demos.orders\n",
    "WHERE  ABS(MOD(Farm_fingerprint(freight\n",
    "                            || order_id\n",
    "                            || employee_id), 4)) = 1 "
   ]
  },
  {
   "cell_type": "markdown",
   "metadata": {},
   "source": [
    "Regular expressions - very important: REGEXP_CONTAINS, REGEXP_EXTRACT, REGEXP_EXTRACT_ALL. Based on re2 standard.\n",
    "Other important string functions are STRPOS, SUBSTR, REPLACE, LOWER, UPPER, ... Not explicitly covered here as it is assumed they are common enough."
   ]
  },
  {
   "cell_type": "code",
   "execution_count": null,
   "metadata": {},
   "outputs": [],
   "source": [
    "%%bigquery\n",
    "WITH\n",
    "  emails AS (\n",
    "  SELECT\n",
    "    \"foo@example.com\" AS email\n",
    "  UNION ALL\n",
    "  SELECT\n",
    "    \"bar@example.org\"\n",
    "  UNION ALL\n",
    "  SELECT\n",
    "    \"www.example.net\"\n",
    "  UNION ALL\n",
    "  SELECT\n",
    "    \"hello@domain.some!\" )\n",
    "SELECT\n",
    "  email,\n",
    "  REGEXP_CONTAINS(email, r\"@[a-zA-Z0-9-]+\\.[a-zA-Z0-9-.]+\") AS is_valid\n",
    "FROM\n",
    "  emails"
   ]
  },
  {
   "cell_type": "code",
   "execution_count": null,
   "metadata": {},
   "outputs": [],
   "source": [
    "%%bigquery\n",
    "WITH\n",
    "  emails AS (\n",
    "  SELECT\n",
    "    \"foo@example.com\" AS email\n",
    "  UNION ALL\n",
    "  SELECT\n",
    "    \"bar@example.org\"\n",
    "  UNION ALL\n",
    "  SELECT\n",
    "    \"www.example.net\"\n",
    "  UNION ALL\n",
    "  SELECT\n",
    "    \"hello@domain.some!\" )\n",
    "SELECT\n",
    "  email,\n",
    "  REGEXP_CONTAINS(email, r\"@[a-zA-Z0-9-]+\\.[a-zA-Z0-9]+\") AS is_valid\n",
    "FROM emails"
   ]
  },
  {
   "cell_type": "code",
   "execution_count": null,
   "metadata": {},
   "outputs": [],
   "source": [
    "%%bigquery\n",
    "WITH\n",
    "  emails AS (\n",
    "  SELECT\n",
    "    \"foo@example.com\" AS email\n",
    "  UNION ALL\n",
    "  SELECT\n",
    "    \"bar@example.org\"\n",
    "  UNION ALL\n",
    "  SELECT\n",
    "    \"www.example.net\"\n",
    "  UNION ALL\n",
    "  SELECT\n",
    "    \"hello@domain.some!\" )\n",
    "SELECT\n",
    "  email,REGEXP_CONTAINS(email, r\"@[a-zA-Z0-9-]+\\.[a-zA-Z0-9$]+\") AS is_valid\n",
    "FROM emails;"
   ]
  },
  {
   "cell_type": "code",
   "execution_count": null,
   "metadata": {},
   "outputs": [],
   "source": [
    "%%bigquery\n",
    "WITH email_addresses AS\n",
    "  (SELECT \"charles@roitraining.com\" as email\n",
    "  UNION ALL\n",
    "  SELECT \"dave@royalacademy.org\" as email\n",
    "  UNION ALL\n",
    "  SELECT \"charles_kangai@roitraining.com\" as email\n",
    "  UNION ALL \n",
    "  SELECT \"charles.kangai@roitraining.com\" \n",
    "  UNION ALL \n",
    "  SELECT \"charles+kangai@roitraining.com\"\n",
    "  UNION ALL \n",
    "  SELECT \"john-doe@example.com\")\n",
    "\n",
    "SELECT\n",
    "  REGEXP_EXTRACT(email, r\"^[a-zA-Z0-9_.+-]+\")\n",
    "  AS user_name\n",
    "FROM email_addresses;"
   ]
  },
  {
   "cell_type": "code",
   "execution_count": null,
   "metadata": {},
   "outputs": [],
   "source": [
    "%%bigquery\n",
    "WITH email_addresses AS\n",
    "  (SELECT \"foo@example.com\" as email\n",
    "  UNION ALL\n",
    "  SELECT \"bar@example.org\" as email\n",
    "  UNION ALL\n",
    "  SELECT \"baz@example.net\" as email)\n",
    "\n",
    "SELECT email, \n",
    "  REGEXP_EXTRACT(email, r\"^[a-zA-Z0-9_.+-]+@[a-zA-Z0-9-]+\\.([a-zA-Z0-9-.]+$)\")\n",
    "  AS top_level_domain\n",
    "FROM email_addresses;"
   ]
  },
  {
   "cell_type": "code",
   "execution_count": null,
   "metadata": {},
   "outputs": [],
   "source": [
    "%%bigquery\n",
    "WITH code_markdown AS\n",
    "  (SELECT \"Try `function(x)` or `function(y)`\" as code)\n",
    "SELECT\n",
    "  REGEXP_EXTRACT_ALL(code, \"`(.+?)`\") AS example\n",
    "FROM code_markdown;"
   ]
  },
  {
   "cell_type": "code",
   "execution_count": null,
   "metadata": {},
   "outputs": [],
   "source": [
    "Generating a sequence."
   ]
  },
  {
   "cell_type": "code",
   "execution_count": null,
   "metadata": {},
   "outputs": [],
   "source": [
    "%%bigquery\n",
    "SELECT GENERATE_ARRAY(1, 100) AS One_to_100;"
   ]
  },
  {
   "cell_type": "code",
   "execution_count": null,
   "metadata": {},
   "outputs": [],
   "source": [
    "%%bigquery\n",
    "SELECT GENERATE_DATE_ARRAY(DATE '2020-06-01', DATE '2020-06-30') AS June_Days;"
   ]
  },
  {
   "cell_type": "markdown",
   "metadata": {},
   "source": [
    "Date and Time functions - really important."
   ]
  },
  {
   "cell_type": "code",
   "execution_count": null,
   "metadata": {},
   "outputs": [],
   "source": [
    "%%bigquery\n",
    "SELECT \tCURRENT_DATE() AS the_date\n",
    "\t\t,CURRENT_DATETIME() AS date_and_time\n",
    "\t\t,CURRENT_TIMESTAMP() AS date_and_time_with_zone"
   ]
  },
  {
   "cell_type": "code",
   "execution_count": null,
   "metadata": {},
   "outputs": [],
   "source": [
    "%%bigquery\n",
    "SELECT \tDATE_ADD(CURRENT_DATE(), INTERVAL 2 WEEK) AS Two_Weeks_Hence\n",
    "\t\t    ,CURRENT_DATETIME()                                 AS date_time_now\n",
    "\t\t    ,DATETIME_ADD(CURRENT_DATETIME(), INTERVAL 36 hour) AS Thirty_6_hrs_later \n",
    "\t\t    ,TIMESTAMP_SUB(CURRENT_TIMESTAMP(), INTERVAL 1 HOUR) AS one_hour_ago;"
   ]
  },
  {
   "cell_type": "code",
   "execution_count": null,
   "metadata": {},
   "outputs": [],
   "source": [
    "%%bigquery\n",
    "SELECT \tDATE_DIFF(DATE '2020-12-25', CURRENT_DATE(), DAY) AS Days_to_Xmas\n",
    "\t\t,DATETIME_DIFF(DATETIME '2020-06-16 10:00:00', CURRENT_DATETIME(), HOUR) AS hours_between\n",
    "\t\t,DATETIME_SUB(DATETIME '2020-06-03 10:00:00', INTERVAL 25 HOUR) AS yest_minus_hour;"
   ]
  },
  {
   "cell_type": "code",
   "execution_count": null,
   "metadata": {},
   "outputs": [],
   "source": [
    "%%bigquery\n",
    "SELECT DATE_TRUNC(CURRENT_DATE(), MONTH) AS beginning_of_month, DATE_TRUNC(CURRENT_DATE(), YEAR) AS beginning_of_year"
   ]
  },
  {
   "cell_type": "code",
   "execution_count": null,
   "metadata": {},
   "outputs": [],
   "source": [
    "%%bigquery\n",
    "SELECT FORMAT_DATE('%d-%m-%Y', CURRENT_DATE()) AS UK_Date"
   ]
  },
  {
   "cell_type": "markdown",
   "metadata": {},
   "source": [
    "Other date formats available here: https://cloud.google.com/bigquery/docs/reference/standard-sql/functions-and-operators#timezone_definitions"
   ]
  },
  {
   "cell_type": "code",
   "execution_count": null,
   "metadata": {},
   "outputs": [],
   "source": [
    "%%bigquery\n",
    "SELECT \t\n",
    "\t\tFORMAT_DATE('%d-%b-%Y', CURRENT_DATE()) AS abbr_month\n",
    "\t\t,FORMAT_DATE('%d-%B-%Y', CURRENT_DATE()) AS full_month\n",
    "\t\t,FORMAT_DATE('%a', CURRENT_DATE()) AS short_week_day_name \n",
    "\t\t,FORMAT_DATE('%A', CURRENT_DATE()) AS long_week_day_name"
   ]
  },
  {
   "cell_type": "code",
   "execution_count": null,
   "metadata": {},
   "outputs": [],
   "source": [
    "%%bigquery\n",
    "SELECT PARSE_DATE('%d-%m-%Y', '25-12-2020') AS from_uk_format"
   ]
  },
  {
   "cell_type": "code",
   "execution_count": null,
   "metadata": {},
   "outputs": [],
   "source": [
    "%%bigquery\n",
    "SELECT UNIX_DATE(CURRENT_DATE()) AS days_since_jan_1_1970"
   ]
  },
  {
   "cell_type": "code",
   "execution_count": null,
   "metadata": {},
   "outputs": [],
   "source": [
    "%%bigquery\n",
    "SELECT EXTRACT(DAYOFWEEK FROM CURRENT_TIMESTAMP()) AS day_number_of_week\n",
    "\t\t,FORMAT_TIMESTAMP('%A', CURRENT_TIMESTAMP()) AS day_name_of_week;"
   ]
  },
  {
   "cell_type": "code",
   "execution_count": null,
   "metadata": {},
   "outputs": [],
   "source": [
    "%%bigquery\n",
    "SELECT TIMESTAMP_SECONDS(36000000) as thirty_six_million_sec_after_epoch_time"
   ]
  },
  {
   "cell_type": "code",
   "execution_count": null,
   "metadata": {},
   "outputs": [],
   "source": [
    "%%bigquery\n",
    "SELECT TIMESTAMP_MILLIS(36000000000) AS thirty_six_million_sec_after_epoch_time"
   ]
  },
  {
   "cell_type": "code",
   "execution_count": null,
   "metadata": {},
   "outputs": [],
   "source": [
    "%%bigquery\n",
    "SELECT UNIX_MILLIS(CURRENT_TIMESTAMP()) AS milliseconds_passed;"
   ]
  },
  {
   "cell_type": "markdown",
   "metadata": {},
   "source": [
    "Error function - not like RAISERROR or RAISE_APPLICATION_ERROR as this can be used inline with SQL statements"
   ]
  },
  {
   "cell_type": "code",
   "execution_count": null,
   "metadata": {},
   "outputs": [],
   "source": [
    "%%bigquery\n",
    "SELECT\n",
    "  CASE\n",
    "    WHEN grade = 1 THEN 'Distinction'\n",
    "    WHEN grade = 2 THEN 'Passed'\n",
    "    WHEN grade = 3 THEN 'Remediation'\n",
    "    ELSE ERROR(concat('Not a standard grade: ', grade))\n",
    "  END AS new_value\n",
    "FROM (\n",
    "  SELECT 1 AS grade UNION ALL\n",
    "  SELECT 2   UNION ALL\n",
    "  SELECT 3   UNION ALL \n",
    "  SELECT 4);"
   ]
  },
  {
   "cell_type": "code",
   "execution_count": null,
   "metadata": {},
   "outputs": [],
   "source": [
    "%%bigquery\n",
    "WITH groceries AS \n",
    "(SELECT 1 as id, ['apple','pear','banana'] AS list \n",
    "UNION ALL SELECT 2, ['carrot','apple'] AS list \n",
    "UNION ALL SELECT 3, ['water','wine'] AS list)\n",
    "SELECT id, list \n",
    "  FROM groceries\n",
    "  WHERE 'apple' IN UNNEST(list)"
   ]
  },
  {
   "cell_type": "markdown",
   "metadata": {},
   "source": [
    "Denormalize"
   ]
  },
  {
   "cell_type": "code",
   "execution_count": null,
   "metadata": {},
   "outputs": [],
   "source": [
    "%%bigquery\n",
    "WITH cte_od \n",
    "     AS (SELECT o.order_id, \n",
    "                o.customer_id, \n",
    "                o.order_date, \n",
    "                o.shipped_date, \n",
    "                o.freight, \n",
    "                ARRAY_AGG(STRUCT (od.order_id, od.product_id, od.unit_price, \n",
    "                          od.quantity, \n",
    "                          od.discount, \n",
    "                                    od.product_name)) AS line_items \n",
    "         FROM   demos.order_details AS od \n",
    "                JOIN demos.orders AS o \n",
    "                  ON o.order_id = od.order_id \n",
    "         GROUP  BY o.order_id, \n",
    "                   o.customer_id, \n",
    "                   o.order_date, \n",
    "                   o.shipped_date, \n",
    "                   o.freight) \n",
    "SELECT c.customer_id, \n",
    "       c.company_name, \n",
    "       c.contact_name, \n",
    "       ARRAY_AGG(STRUCT(co.order_id, co.customer_id, co.order_date, \n",
    "                 co.shipped_date, \n",
    "                 co.freight, \n",
    "                           co.line_items)) AS customer_orders \n",
    "FROM   demos.customers AS c \n",
    "       JOIN cte_od AS co \n",
    "         ON c.customer_id = co.customer_id \n",
    "GROUP  BY c.customer_id, \n",
    "          c.company_name, \n",
    "          c.contact_name \n"
   ]
  },
  {
   "cell_type": "markdown",
   "metadata": {},
   "source": [
    "create the denormalized table"
   ]
  },
  {
   "cell_type": "code",
   "execution_count": null,
   "metadata": {},
   "outputs": [],
   "source": [
    "%%bigquery\n",
    "CREATE OR REPLACE TABLE demos.customer_and_orders AS \n",
    "WITH cte_od \n",
    "     AS (SELECT o.order_id, \n",
    "                o.customer_id, \n",
    "                o.order_date, \n",
    "                o.shipped_date, \n",
    "                o.freight, \n",
    "                ARRAY_AGG(STRUCT (od.order_id, od.product_id, od.unit_price, \n",
    "                          od.quantity, \n",
    "                          od.discount, \n",
    "                                    od.product_name)) AS line_items \n",
    "         FROM   demos.order_details AS od \n",
    "                JOIN demos.orders AS o \n",
    "                  ON o.order_id = od.order_id \n",
    "         GROUP  BY o.order_id, \n",
    "                   o.customer_id, \n",
    "                   o.order_date, \n",
    "                   o.shipped_date, \n",
    "                   o.freight) \n",
    "SELECT c.customer_id, \n",
    "       c.company_name, \n",
    "       c.contact_name, \n",
    "       ARRAY_AGG(STRUCT(co.order_id, co.customer_id, co.order_date, \n",
    "                 co.shipped_date, \n",
    "                 co.freight, \n",
    "                           co.line_items)) AS customer_orders \n",
    "FROM   demos.customers AS c \n",
    "       JOIN cte_od AS co \n",
    "         ON c.customer_id = co.customer_id \n",
    "GROUP  BY c.customer_id, \n",
    "          c.company_name, \n",
    "          c.contact_name "
   ]
  },
  {
   "cell_type": "markdown",
   "metadata": {},
   "source": [
    "List customers with more than 10 orders"
   ]
  },
  {
   "cell_type": "code",
   "execution_count": null,
   "metadata": {},
   "outputs": [],
   "source": [
    "%%bigquery\n",
    "SELECT * \n",
    "FROM demos.customer_and_orders \n",
    "WHERE ARRAY_LENGTH(customer_orders) > 10"
   ]
  },
  {
   "cell_type": "markdown",
   "metadata": {},
   "source": [
    "List customers who bought Longlife Tofu, along with the date of the order and the order number"
   ]
  },
  {
   "cell_type": "code",
   "execution_count": null,
   "metadata": {},
   "outputs": [],
   "source": [
    "%%bigquery\n",
    "SELECT\n",
    "  cto.customer_id\n",
    "  ,company_name\n",
    "  ,co.order_id\n",
    "  ,co.order_date\n",
    "  ,li.product_name\n",
    "FROM\n",
    "  demos.customer_and_orders AS cto,\n",
    "  UNNEST(customer_orders) AS co,\n",
    "  UNNEST(co.line_items) AS li\n",
    "WHERE\n",
    "  li.product_name = 'Longlife Tofu'"
   ]
  },
  {
   "cell_type": "markdown",
   "metadata": {},
   "source": [
    "Generate a UUID:"
   ]
  },
  {
   "cell_type": "code",
   "execution_count": 62,
   "metadata": {},
   "outputs": [
    {
     "data": {
      "text/html": [
       "<div>\n",
       "<style scoped>\n",
       "    .dataframe tbody tr th:only-of-type {\n",
       "        vertical-align: middle;\n",
       "    }\n",
       "\n",
       "    .dataframe tbody tr th {\n",
       "        vertical-align: top;\n",
       "    }\n",
       "\n",
       "    .dataframe thead th {\n",
       "        text-align: right;\n",
       "    }\n",
       "</style>\n",
       "<table border=\"1\" class=\"dataframe\">\n",
       "  <thead>\n",
       "    <tr style=\"text-align: right;\">\n",
       "      <th></th>\n",
       "      <th>Globally_Unique</th>\n",
       "    </tr>\n",
       "  </thead>\n",
       "  <tbody>\n",
       "    <tr>\n",
       "      <th>0</th>\n",
       "      <td>b3345b1f-66e9-4c13-9359-31c0071324bb</td>\n",
       "    </tr>\n",
       "  </tbody>\n",
       "</table>\n",
       "</div>"
      ],
      "text/plain": [
       "                        Globally_Unique\n",
       "0  b3345b1f-66e9-4c13-9359-31c0071324bb"
      ]
     },
     "execution_count": 62,
     "metadata": {},
     "output_type": "execute_result"
    }
   ],
   "source": [
    "%%bigquery\n",
    "SELECT GENERATE_UUID() AS Globally_Unique;"
   ]
  },
  {
   "cell_type": "markdown",
   "metadata": {},
   "source": [
    "Extract an element from an array"
   ]
  },
  {
   "cell_type": "code",
   "execution_count": null,
   "metadata": {},
   "outputs": [],
   "source": [
    "%%bigquery\n",
    "SELECT SPLIT('10251,22,16.8,6,5.0000001E-2,Gustaf\\'s Knäckebröd', ',')[OFFSET(5)] AS product_name;"
   ]
  },
  {
   "cell_type": "code",
   "execution_count": null,
   "metadata": {},
   "outputs": [],
   "source": [
    "%%bigquery\n",
    "WITH\n",
    "  order_lines AS (\n",
    "  SELECT\n",
    "    '10248,11,14,12,0,Queso Cabrales' AS order_info\n",
    "  UNION ALL\n",
    "  SELECT\n",
    "    '10249,51,42.4,40,0,Manjimup Dried Apples'\n",
    "  UNION ALL\n",
    "  SELECT\n",
    "    '10250,65,16.8,15,0.15000001,Louisiana Fiery Hot Pepper Sauce'\n",
    "  UNION ALL\n",
    "  SELECT\n",
    "    '10252,20,64.8,40,5.0000001E-2,Sir Rodney\\'s Marmalade' )\n",
    "SELECT\n",
    "  SPLIT(order_info, ',')[OFFSET(0)] AS order_id,\n",
    "  SPLIT(order_info, ',')[OFFSET(5)] AS product_name\n",
    "FROM\n",
    "  order_lines"
   ]
  },
  {
   "cell_type": "markdown",
   "metadata": {},
   "source": [
    "Extract from JSON"
   ]
  },
  {
   "cell_type": "code",
   "execution_count": null,
   "metadata": {},
   "outputs": [],
   "source": [
    "%%bigquery\n",
    "SELECT JSON_EXTRACT(json_string, '$')\n",
    "FROM UNNEST(['{   \"city\": \"Vancouver\",   \"country\": \"Canada\",   \"region\": \"British Columbia\"  }'\n",
    ",  '{    \"city\": \"Tsawassen\",    \"country\": \"Canada\",    \"region\": \"British Columbia\"  }' \n",
    ",  '{    \"city\": \"Montréal\",    \"country\": \"Canada\",    \"region\": \"Québec\"  }'])\n",
    "AS json_string"
   ]
  },
  {
   "cell_type": "code",
   "execution_count": null,
   "metadata": {},
   "outputs": [],
   "source": [
    "%%bigquery\n",
    "SELECT \n",
    "    JSON_EXTRACT(json_string, '$.city') AS city\n",
    "    ,JSON_EXTRACT(json_string, '$.country') AS country\n",
    "    ,JSON_EXTRACT(json_string, '$.region') AS region\n",
    "FROM UNNEST(['{   \"city\": \"Vancouver\",   \"country\": \"Canada\",   \"region\": \"British Columbia\"  }'\n",
    ",  '{    \"city\": \"Tsawassen\",    \"country\": \"Canada\",    \"region\": \"British Columbia\"  }' \n",
    ",  '{    \"city\": \"Montréal\",    \"country\": \"Canada\",    \"region\": \"Québec\"  }'])\n",
    "AS json_string"
   ]
  },
  {
   "cell_type": "markdown",
   "metadata": {},
   "source": [
    "Return JSON with TO_JSON_STRING"
   ]
  },
  {
   "cell_type": "code",
   "execution_count": null,
   "metadata": {},
   "outputs": [],
   "source": [
    "%%bigquery\n",
    "with orders AS (\n",
    "SELECT order_id, order_date, ARRAY( SELECT STRUCT( product_id, unit_price, quantity)FROM demos.order_details WHERE order_id = o.order_id) AS details \n",
    "FROM demos.orders AS o \n",
    "LIMIT 5)\n",
    "SELECT t, TO_JSON_STRING(t)\n",
    "FROM orders AS t"
   ]
  }
 ],
 "metadata": {
  "environment": {
   "name": "common-cpu.m59",
   "type": "gcloud",
   "uri": "gcr.io/deeplearning-platform-release/base-cpu:m59"
  },
  "kernelspec": {
   "display_name": "Python 3",
   "language": "python",
   "name": "python3"
  },
  "language_info": {
   "codemirror_mode": {
    "name": "ipython",
    "version": 3
   },
   "file_extension": ".py",
   "mimetype": "text/x-python",
   "name": "python",
   "nbconvert_exporter": "python",
   "pygments_lexer": "ipython3",
   "version": "3.7.8"
  }
 },
 "nbformat": 4,
 "nbformat_minor": 4
}
